{
 "cells": [
  {
   "cell_type": "code",
   "execution_count": 32,
   "metadata": {},
   "outputs": [
    {
     "name": "stdout",
     "output_type": "stream",
     "text": [
      "Twinkle, twinkle, little star,\n",
      "         How I wonder what you are!\n",
      "               Up above the world so high,\n",
      "               Like a diamond in the sky.\n",
      "Twinkle, twinkle, little star,\n",
      "               How I wonder what you are\n"
     ]
    }
   ],
   "source": [
    "a = \"\"\"Twinkle, twinkle, little star,\n",
    "         How I wonder what you are!\n",
    "               Up above the world so high,\n",
    "               Like a diamond in the sky.\n",
    "Twinkle, twinkle, little star,\n",
    "               How I wonder what you are\"\"\"\n",
    "\n",
    "print(a)"
   ]
  },
  {
   "cell_type": "code",
   "execution_count": 45,
   "metadata": {},
   "outputs": [
    {
     "name": "stdout",
     "output_type": "stream",
     "text": [
      "2019-11-05 13:45:32.242218\n"
     ]
    }
   ],
   "source": [
    "import datetime\n",
    "\n",
    "x = datetime.datetime.now()\n",
    "\n",
    "print(x)"
   ]
  },
  {
   "cell_type": "code",
   "execution_count": 46,
   "metadata": {},
   "outputs": [
    {
     "name": "stdout",
     "output_type": "stream",
     "text": [
      "Python 3\n"
     ]
    }
   ],
   "source": [
    "print(\"Python 3\")"
   ]
  },
  {
   "cell_type": "code",
   "execution_count": 70,
   "metadata": {},
   "outputs": [
    {
     "name": "stdout",
     "output_type": "stream",
     "text": [
      "enter first name:sufyan\n",
      "enter last name:raza\n",
      "azar nayfus\n"
     ]
    }
   ],
   "source": [
    "first_name = input(\"enter first name:\")\n",
    "last_name = input(\"enter last name:\")\n",
    "full_name = (first_name +\" \"+ last_name)\n",
    "print(full_name[::-1])"
   ]
  },
  {
   "cell_type": "code",
   "execution_count": 71,
   "metadata": {},
   "outputs": [
    {
     "name": "stdout",
     "output_type": "stream",
     "text": [
      "enter a value 10\n",
      "enter b value 10\n",
      "20\n"
     ]
    }
   ],
   "source": [
    "a = int(input(\"enter a value\"\" \"))\n",
    "b = int(input(\"enter b value\"\" \"))\n",
    "c = a + b\n",
    "print(c)"
   ]
  },
  {
   "cell_type": "code",
   "execution_count": 72,
   "metadata": {},
   "outputs": [
    {
     "name": "stdout",
     "output_type": "stream",
     "text": [
      "Enter the radius of the circle :9\n",
      "Area of the circle is : 254.34\n"
     ]
    }
   ],
   "source": [
    "PI = 3.14\n",
    "r = float(input('Enter the radius of the circle :'))\n",
    "area = PI * r * r\n",
    "\n",
    "print(\"Area of the circle is : %.2f\" %area)\n"
   ]
  },
  {
   "cell_type": "code",
   "execution_count": null,
   "metadata": {},
   "outputs": [],
   "source": []
  }
 ],
 "metadata": {
  "kernelspec": {
   "display_name": "Python 3",
   "language": "python",
   "name": "python3"
  },
  "language_info": {
   "codemirror_mode": {
    "name": "ipython",
    "version": 3
   },
   "file_extension": ".py",
   "mimetype": "text/x-python",
   "name": "python",
   "nbconvert_exporter": "python",
   "pygments_lexer": "ipython3",
   "version": "3.7.4"
  }
 },
 "nbformat": 4,
 "nbformat_minor": 2
}
